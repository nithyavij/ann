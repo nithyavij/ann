{
 "cells": [
  {
   "cell_type": "code",
   "execution_count": 1,
   "id": "e45f844c",
   "metadata": {},
   "outputs": [],
   "source": [
    "#Loading packages\n",
    "import pandas as pd\n",
    "import numpy as np\n",
    "import matplotlib.pyplot as plt\n",
    "import tensorflow as tf\n",
    "from sklearn.model_selection import train_test_split\n",
    "from tensorflow import keras"
   ]
  },
  {
   "cell_type": "code",
   "execution_count": 3,
   "id": "af50cedf",
   "metadata": {},
   "outputs": [
    {
     "name": "stdout",
     "output_type": "stream",
     "text": [
      "<class 'pandas.core.frame.DataFrame'>\n",
      "RangeIndex: 5110 entries, 0 to 5109\n",
      "Data columns (total 12 columns):\n",
      " #   Column             Non-Null Count  Dtype  \n",
      "---  ------             --------------  -----  \n",
      " 0   id                 5110 non-null   int64  \n",
      " 1   gender             5110 non-null   object \n",
      " 2   age                5110 non-null   float64\n",
      " 3   hypertension       5110 non-null   int64  \n",
      " 4   heart_disease      5110 non-null   int64  \n",
      " 5   ever_married       5110 non-null   object \n",
      " 6   work_type          5110 non-null   object \n",
      " 7   Residence_type     5110 non-null   object \n",
      " 8   avg_glucose_level  5110 non-null   float64\n",
      " 9   bmi                4909 non-null   float64\n",
      " 10  smoking_status     5110 non-null   object \n",
      " 11  stroke             5110 non-null   int64  \n",
      "dtypes: float64(3), int64(4), object(5)\n",
      "memory usage: 479.2+ KB\n"
     ]
    }
   ],
   "source": [
    "#Importing data\n",
    "stroke_dta = pd.read_csv(r\"C:\\\\Nithya\\Healthcare_Stroke_Data.csv\")\n",
    "stroke_dta.info()"
   ]
  },
  {
   "cell_type": "code",
   "execution_count": 5,
   "id": "d058dc1a",
   "metadata": {},
   "outputs": [],
   "source": [
    "#Replacing the null values with 0\n",
    "stroke_dta=stroke_dta.fillna(0)"
   ]
  },
  {
   "cell_type": "code",
   "execution_count": 6,
   "id": "6fce9af2",
   "metadata": {},
   "outputs": [
    {
     "data": {
      "text/html": [
       "<div>\n",
       "<style scoped>\n",
       "    .dataframe tbody tr th:only-of-type {\n",
       "        vertical-align: middle;\n",
       "    }\n",
       "\n",
       "    .dataframe tbody tr th {\n",
       "        vertical-align: top;\n",
       "    }\n",
       "\n",
       "    .dataframe thead th {\n",
       "        text-align: right;\n",
       "    }\n",
       "</style>\n",
       "<table border=\"1\" class=\"dataframe\">\n",
       "  <thead>\n",
       "    <tr style=\"text-align: right;\">\n",
       "      <th></th>\n",
       "      <th>id</th>\n",
       "      <th>gender</th>\n",
       "      <th>age</th>\n",
       "      <th>hypertension</th>\n",
       "      <th>heart_disease</th>\n",
       "      <th>ever_married</th>\n",
       "      <th>work_type</th>\n",
       "      <th>Residence_type</th>\n",
       "      <th>avg_glucose_level</th>\n",
       "      <th>bmi</th>\n",
       "      <th>smoking_status</th>\n",
       "      <th>stroke</th>\n",
       "    </tr>\n",
       "  </thead>\n",
       "  <tbody>\n",
       "    <tr>\n",
       "      <th>0</th>\n",
       "      <td>9046</td>\n",
       "      <td>Male</td>\n",
       "      <td>67.0</td>\n",
       "      <td>0</td>\n",
       "      <td>1</td>\n",
       "      <td>Yes</td>\n",
       "      <td>Private</td>\n",
       "      <td>Urban</td>\n",
       "      <td>228.69</td>\n",
       "      <td>36.6</td>\n",
       "      <td>formerly smoked</td>\n",
       "      <td>1</td>\n",
       "    </tr>\n",
       "    <tr>\n",
       "      <th>1</th>\n",
       "      <td>51676</td>\n",
       "      <td>Female</td>\n",
       "      <td>61.0</td>\n",
       "      <td>0</td>\n",
       "      <td>0</td>\n",
       "      <td>Yes</td>\n",
       "      <td>Self-employed</td>\n",
       "      <td>Rural</td>\n",
       "      <td>202.21</td>\n",
       "      <td>0.0</td>\n",
       "      <td>never smoked</td>\n",
       "      <td>1</td>\n",
       "    </tr>\n",
       "    <tr>\n",
       "      <th>2</th>\n",
       "      <td>31112</td>\n",
       "      <td>Male</td>\n",
       "      <td>80.0</td>\n",
       "      <td>0</td>\n",
       "      <td>1</td>\n",
       "      <td>Yes</td>\n",
       "      <td>Private</td>\n",
       "      <td>Rural</td>\n",
       "      <td>105.92</td>\n",
       "      <td>32.5</td>\n",
       "      <td>never smoked</td>\n",
       "      <td>1</td>\n",
       "    </tr>\n",
       "    <tr>\n",
       "      <th>3</th>\n",
       "      <td>60182</td>\n",
       "      <td>Female</td>\n",
       "      <td>49.0</td>\n",
       "      <td>0</td>\n",
       "      <td>0</td>\n",
       "      <td>Yes</td>\n",
       "      <td>Private</td>\n",
       "      <td>Urban</td>\n",
       "      <td>171.23</td>\n",
       "      <td>34.4</td>\n",
       "      <td>smokes</td>\n",
       "      <td>1</td>\n",
       "    </tr>\n",
       "    <tr>\n",
       "      <th>4</th>\n",
       "      <td>1665</td>\n",
       "      <td>Female</td>\n",
       "      <td>79.0</td>\n",
       "      <td>1</td>\n",
       "      <td>0</td>\n",
       "      <td>Yes</td>\n",
       "      <td>Self-employed</td>\n",
       "      <td>Rural</td>\n",
       "      <td>174.12</td>\n",
       "      <td>24.0</td>\n",
       "      <td>never smoked</td>\n",
       "      <td>1</td>\n",
       "    </tr>\n",
       "    <tr>\n",
       "      <th>5</th>\n",
       "      <td>56669</td>\n",
       "      <td>Male</td>\n",
       "      <td>81.0</td>\n",
       "      <td>0</td>\n",
       "      <td>0</td>\n",
       "      <td>Yes</td>\n",
       "      <td>Private</td>\n",
       "      <td>Urban</td>\n",
       "      <td>186.21</td>\n",
       "      <td>29.0</td>\n",
       "      <td>formerly smoked</td>\n",
       "      <td>1</td>\n",
       "    </tr>\n",
       "  </tbody>\n",
       "</table>\n",
       "</div>"
      ],
      "text/plain": [
       "      id  gender   age  hypertension  heart_disease ever_married  \\\n",
       "0   9046    Male  67.0             0              1          Yes   \n",
       "1  51676  Female  61.0             0              0          Yes   \n",
       "2  31112    Male  80.0             0              1          Yes   \n",
       "3  60182  Female  49.0             0              0          Yes   \n",
       "4   1665  Female  79.0             1              0          Yes   \n",
       "5  56669    Male  81.0             0              0          Yes   \n",
       "\n",
       "       work_type Residence_type  avg_glucose_level   bmi   smoking_status  \\\n",
       "0        Private          Urban             228.69  36.6  formerly smoked   \n",
       "1  Self-employed          Rural             202.21   0.0     never smoked   \n",
       "2        Private          Rural             105.92  32.5     never smoked   \n",
       "3        Private          Urban             171.23  34.4           smokes   \n",
       "4  Self-employed          Rural             174.12  24.0     never smoked   \n",
       "5        Private          Urban             186.21  29.0  formerly smoked   \n",
       "\n",
       "   stroke  \n",
       "0       1  \n",
       "1       1  \n",
       "2       1  \n",
       "3       1  \n",
       "4       1  \n",
       "5       1  "
      ]
     },
     "execution_count": 6,
     "metadata": {},
     "output_type": "execute_result"
    }
   ],
   "source": [
    "#Dataset initial rows\n",
    "stroke_dta.head(6)"
   ]
  },
  {
   "cell_type": "code",
   "execution_count": 21,
   "id": "e33e2c9b",
   "metadata": {},
   "outputs": [],
   "source": [
    "#Dividing dataset into independent vrble and dependent vrble\n",
    "indpndnt = stroke_dta.drop(['id','smoking_status','stroke'],axis=1)\n",
    "dpndnt = stroke_dta.loc[:,'stroke']"
   ]
  },
  {
   "cell_type": "code",
   "execution_count": 22,
   "id": "3d094b01",
   "metadata": {},
   "outputs": [],
   "source": [
    "#Transforming categorical vrble into dummy vrble \n",
    "gender = pd.get_dummies(indpndnt['gender'],drop_first=True)\n",
    "ever_married=pd.get_dummies(indpndnt['ever_married'],drop_first=True)\n",
    "work_type=pd.get_dummies(indpndnt['work_type'],drop_first=True)\n",
    "Residence_type=pd.get_dummies(indpndnt['Residence_type'],drop_first=True)"
   ]
  },
  {
   "cell_type": "code",
   "execution_count": 23,
   "id": "db5f2ec9",
   "metadata": {},
   "outputs": [],
   "source": [
    "#Dropping not required columns\n",
    "indpndnt.drop(['gender','ever_married','work_type','Residence_type'],axis=1,inplace=True)"
   ]
  },
  {
   "cell_type": "code",
   "execution_count": 24,
   "id": "a4fd4436",
   "metadata": {},
   "outputs": [],
   "source": [
    "#Forming new independent variable dataset\n",
    "indpndnt = pd.concat([indpndnt,gender,ever_married,work_type,Residence_type],axis=1)"
   ]
  },
  {
   "cell_type": "code",
   "execution_count": 25,
   "id": "038d08c8",
   "metadata": {},
   "outputs": [
    {
     "name": "stdout",
     "output_type": "stream",
     "text": [
      "<class 'pandas.core.frame.DataFrame'>\n",
      "RangeIndex: 5110 entries, 0 to 5109\n",
      "Data columns (total 13 columns):\n",
      " #   Column             Non-Null Count  Dtype  \n",
      "---  ------             --------------  -----  \n",
      " 0   age                5110 non-null   float64\n",
      " 1   hypertension       5110 non-null   int64  \n",
      " 2   heart_disease      5110 non-null   int64  \n",
      " 3   avg_glucose_level  5110 non-null   float64\n",
      " 4   bmi                5110 non-null   float64\n",
      " 5   Male               5110 non-null   uint8  \n",
      " 6   Other              5110 non-null   uint8  \n",
      " 7   Yes                5110 non-null   uint8  \n",
      " 8   Never_worked       5110 non-null   uint8  \n",
      " 9   Private            5110 non-null   uint8  \n",
      " 10  Self-employed      5110 non-null   uint8  \n",
      " 11  children           5110 non-null   uint8  \n",
      " 12  Urban              5110 non-null   uint8  \n",
      "dtypes: float64(3), int64(2), uint8(8)\n",
      "memory usage: 239.7 KB\n"
     ]
    }
   ],
   "source": [
    "indpndnt.info()"
   ]
  },
  {
   "cell_type": "code",
   "execution_count": 26,
   "id": "6a454cb1",
   "metadata": {},
   "outputs": [],
   "source": [
    "#Segregating Dataset - Training and Test\n",
    "X_trn, X_tst, Y_trn, Y_tst = train_test_split(indpndnt,dpndnt,test_size=0.30)"
   ]
  },
  {
   "cell_type": "code",
   "execution_count": 27,
   "id": "efd83204",
   "metadata": {},
   "outputs": [],
   "source": [
    "#Converting the variables into Tensorflow type\n",
    "features = [tf.feature_column.numeric_column('hypertension'),\n",
    "            tf.feature_column.numeric_column('heart_disease'),\n",
    "            tf.feature_column.numeric_column('avg_glucose_level'),\n",
    "            tf.feature_column.numeric_column('bmi'),\n",
    "            tf.feature_column.numeric_column('Male'),\n",
    "            tf.feature_column.numeric_column('Other'),\n",
    "            tf.feature_column.numeric_column('Yes'),\n",
    "            tf.feature_column.numeric_column('Never_worked'),\n",
    "            tf.feature_column.numeric_column('Private'),\n",
    "            tf.feature_column.numeric_column('Self-employed'),\n",
    "            tf.feature_column.numeric_column('children'),\n",
    "            tf.feature_column.numeric_column('Urban') \n",
    "           ]"
   ]
  },
  {
   "cell_type": "code",
   "execution_count": 28,
   "id": "ec31fa01",
   "metadata": {},
   "outputs": [],
   "source": [
    "#Parameter value assignment function\n",
    "def model_prmtrs(epochs_num,batches_num,shuffle):\n",
    "    return tf.compat.v1.estimator.inputs.pandas_input_fn(\n",
    "        x=X_trn,\n",
    "        y=Y_trn,\n",
    "        batch_size=batches_num,\n",
    "        shuffle=shuffle,\n",
    "        num_epochs=epochs_num       \n",
    "    )"
   ]
  },
  {
   "cell_type": "code",
   "execution_count": 29,
   "id": "38a451af",
   "metadata": {},
   "outputs": [],
   "source": [
    "#Performance validation function\n",
    "def model_performance(epochs_num,batches_num,shuffle):\n",
    "    return tf.compat.v1.estimator.inputs.pandas_input_fn(\n",
    "        x=X_tst,\n",
    "        y=Y_tst,\n",
    "        batch_size=batches_num,\n",
    "        shuffle=shuffle,\n",
    "        num_epochs=epochs_num  \n",
    "    )"
   ]
  },
  {
   "cell_type": "code",
   "execution_count": 30,
   "id": "ca5dc436",
   "metadata": {},
   "outputs": [
    {
     "name": "stdout",
     "output_type": "stream",
     "text": [
      "INFO:tensorflow:Using default config.\n",
      "WARNING:tensorflow:Using temporary folder as model directory: C:\\Users\\alekh\\AppData\\Local\\Temp\\tmpoehf1kbx\n",
      "INFO:tensorflow:Using config: {'_model_dir': 'C:\\\\Users\\\\alekh\\\\AppData\\\\Local\\\\Temp\\\\tmpoehf1kbx', '_tf_random_seed': None, '_save_summary_steps': 100, '_save_checkpoints_steps': None, '_save_checkpoints_secs': 600, '_session_config': allow_soft_placement: true\n",
      "graph_options {\n",
      "  rewrite_options {\n",
      "    meta_optimizer_iterations: ONE\n",
      "  }\n",
      "}\n",
      ", '_keep_checkpoint_max': 5, '_keep_checkpoint_every_n_hours': 10000, '_log_step_count_steps': 100, '_train_distribute': None, '_device_fn': None, '_protocol': None, '_eval_distribute': None, '_experimental_distribute': None, '_experimental_max_worker_delay_secs': None, '_session_creation_timeout_secs': 7200, '_checkpoint_save_graph_def': True, '_service': None, '_cluster_spec': ClusterSpec({}), '_task_type': 'worker', '_task_id': 0, '_global_id_in_cluster': 0, '_master': '', '_evaluation_master': '', '_is_chief': True, '_num_ps_replicas': 0, '_num_worker_replicas': 1}\n"
     ]
    }
   ],
   "source": [
    "#Designing a Artificial Neural Model\n",
    "Stroke_ann_model = tf.estimator.DNNClassifier(n_classes=3,\n",
    "                                       optimizer='Adam',\n",
    "                                       feature_columns=features,\n",
    "                                       dropout=0.35,\n",
    "                                       hidden_units=[1024,512,256,32,3],\n",
    "                                       activation_fn=tf.nn.relu\n",
    "                                      )"
   ]
  },
  {
   "cell_type": "code",
   "execution_count": 31,
   "id": "36d34b1a",
   "metadata": {},
   "outputs": [
    {
     "name": "stdout",
     "output_type": "stream",
     "text": [
      "INFO:tensorflow:Calling model_fn.\n",
      "INFO:tensorflow:Done calling model_fn.\n",
      "INFO:tensorflow:Create CheckpointSaverHook.\n",
      "INFO:tensorflow:Graph was finalized.\n",
      "INFO:tensorflow:Running local_init_op.\n",
      "INFO:tensorflow:Done running local_init_op.\n",
      "WARNING:tensorflow:From C:\\Users\\alekh\\anaconda3\\lib\\site-packages\\tensorflow\\python\\training\\monitored_session.py:907: start_queue_runners (from tensorflow.python.training.queue_runner_impl) is deprecated and will be removed in a future version.\n",
      "Instructions for updating:\n",
      "To construct input pipelines, use the `tf.data` module.\n",
      "INFO:tensorflow:Calling checkpoint listeners before saving checkpoint 0...\n",
      "INFO:tensorflow:Saving checkpoints for 0 into C:\\Users\\alekh\\AppData\\Local\\Temp\\tmpoehf1kbx\\model.ckpt.\n",
      "INFO:tensorflow:Calling checkpoint listeners after saving checkpoint 0...\n",
      "INFO:tensorflow:loss = 14.183951, step = 0\n",
      "INFO:tensorflow:global_step/sec: 71.1179\n",
      "INFO:tensorflow:loss = 0.9876656, step = 100 (1.406 sec)\n",
      "INFO:tensorflow:global_step/sec: 79.7124\n",
      "INFO:tensorflow:loss = 0.8074801, step = 200 (1.255 sec)\n",
      "INFO:tensorflow:global_step/sec: 78.3157\n",
      "INFO:tensorflow:loss = 0.46633348, step = 300 (1.279 sec)\n",
      "INFO:tensorflow:global_step/sec: 80.8992\n",
      "INFO:tensorflow:loss = 0.4272735, step = 400 (1.234 sec)\n",
      "INFO:tensorflow:global_step/sec: 79.6305\n",
      "INFO:tensorflow:loss = 0.37143102, step = 500 (1.256 sec)\n",
      "INFO:tensorflow:global_step/sec: 79.0748\n",
      "INFO:tensorflow:loss = 0.39005518, step = 600 (1.279 sec)\n",
      "INFO:tensorflow:global_step/sec: 79.5934\n",
      "INFO:tensorflow:loss = 0.31938824, step = 700 (1.242 sec)\n",
      "INFO:tensorflow:global_step/sec: 78.7391\n",
      "INFO:tensorflow:loss = 0.3900364, step = 800 (1.270 sec)\n",
      "INFO:tensorflow:global_step/sec: 79.6755\n",
      "INFO:tensorflow:loss = 0.44010615, step = 900 (1.255 sec)\n",
      "INFO:tensorflow:global_step/sec: 79.8615\n",
      "INFO:tensorflow:loss = 0.30028468, step = 1000 (1.252 sec)\n",
      "INFO:tensorflow:global_step/sec: 71.6461\n",
      "INFO:tensorflow:loss = 0.2507998, step = 1100 (1.397 sec)\n",
      "INFO:tensorflow:global_step/sec: 76.2752\n",
      "INFO:tensorflow:loss = 0.36268026, step = 1200 (1.310 sec)\n",
      "INFO:tensorflow:Calling checkpoint listeners before saving checkpoint 1300...\n",
      "INFO:tensorflow:Saving checkpoints for 1300 into C:\\Users\\alekh\\AppData\\Local\\Temp\\tmpoehf1kbx\\model.ckpt.\n",
      "INFO:tensorflow:Calling checkpoint listeners after saving checkpoint 1300...\n",
      "INFO:tensorflow:Loss for final step: 0.33722103.\n"
     ]
    },
    {
     "data": {
      "text/plain": [
       "<tensorflow_estimator.python.estimator.canned.dnn.DNNClassifierV2 at 0x1c909d16a00>"
      ]
     },
     "execution_count": 31,
     "metadata": {},
     "output_type": "execute_result"
    }
   ],
   "source": [
    "#Artificial Neural Model Training using defined epochs and batches\n",
    "Stroke_ann_model.train(input_fn=model_prmtrs(100,128,True),steps=1300)"
   ]
  },
  {
   "cell_type": "code",
   "execution_count": 32,
   "id": "72c2f145",
   "metadata": {},
   "outputs": [
    {
     "name": "stdout",
     "output_type": "stream",
     "text": [
      "INFO:tensorflow:Calling model_fn.\n",
      "INFO:tensorflow:Done calling model_fn.\n",
      "INFO:tensorflow:Starting evaluation at 2023-03-03T18:29:57\n",
      "INFO:tensorflow:Graph was finalized.\n",
      "INFO:tensorflow:Restoring parameters from C:\\Users\\alekh\\AppData\\Local\\Temp\\tmpoehf1kbx\\model.ckpt-1300\n",
      "INFO:tensorflow:Running local_init_op.\n",
      "INFO:tensorflow:Done running local_init_op.\n",
      "INFO:tensorflow:Evaluation [130/1300]\n",
      "INFO:tensorflow:Evaluation [260/1300]\n",
      "INFO:tensorflow:Evaluation [390/1300]\n",
      "INFO:tensorflow:Evaluation [520/1300]\n",
      "INFO:tensorflow:Evaluation [650/1300]\n",
      "INFO:tensorflow:Evaluation [780/1300]\n",
      "INFO:tensorflow:Evaluation [910/1300]\n",
      "INFO:tensorflow:Evaluation [1040/1300]\n",
      "INFO:tensorflow:Evaluation [1170/1300]\n",
      "INFO:tensorflow:Inference Time : 5.59842s\n",
      "INFO:tensorflow:Finished evaluation at 2023-03-03-18:30:03\n",
      "INFO:tensorflow:Saving dict for global step 1300: accuracy = 0.94781476, average_loss = 0.20391344, global_step = 1300, loss = 0.2039025\n",
      "INFO:tensorflow:Saving 'checkpoint_path' summary for global step 1300: C:\\Users\\alekh\\AppData\\Local\\Temp\\tmpoehf1kbx\\model.ckpt-1300\n"
     ]
    },
    {
     "data": {
      "text/plain": [
       "{'accuracy': 0.94781476,\n",
       " 'average_loss': 0.20391344,\n",
       " 'loss': 0.2039025,\n",
       " 'global_step': 1300}"
      ]
     },
     "execution_count": 32,
     "metadata": {},
     "output_type": "execute_result"
    }
   ],
   "source": [
    "#Artificial Neural Network Model performance validation\n",
    "Stroke_ann_model.evaluate(input_fn=model_performance(100,128,True),steps=1300)"
   ]
  },
  {
   "cell_type": "code",
   "execution_count": 33,
   "id": "10ddd434",
   "metadata": {},
   "outputs": [
    {
     "name": "stdout",
     "output_type": "stream",
     "text": [
      "INFO:tensorflow:Using default config.\n",
      "WARNING:tensorflow:Using temporary folder as model directory: C:\\Users\\alekh\\AppData\\Local\\Temp\\tmperii8y22\n",
      "INFO:tensorflow:Using config: {'_model_dir': 'C:\\\\Users\\\\alekh\\\\AppData\\\\Local\\\\Temp\\\\tmperii8y22', '_tf_random_seed': None, '_save_summary_steps': 100, '_save_checkpoints_steps': None, '_save_checkpoints_secs': 600, '_session_config': allow_soft_placement: true\n",
      "graph_options {\n",
      "  rewrite_options {\n",
      "    meta_optimizer_iterations: ONE\n",
      "  }\n",
      "}\n",
      ", '_keep_checkpoint_max': 5, '_keep_checkpoint_every_n_hours': 10000, '_log_step_count_steps': 100, '_train_distribute': None, '_device_fn': None, '_protocol': None, '_eval_distribute': None, '_experimental_distribute': None, '_experimental_max_worker_delay_secs': None, '_session_creation_timeout_secs': 7200, '_checkpoint_save_graph_def': True, '_service': None, '_cluster_spec': ClusterSpec({}), '_task_type': 'worker', '_task_id': 0, '_global_id_in_cluster': 0, '_master': '', '_evaluation_master': '', '_is_chief': True, '_num_ps_replicas': 0, '_num_worker_replicas': 1}\n"
     ]
    }
   ],
   "source": [
    "#Merging Artificial Neural Model and Linear Classifier model\n",
    "Stroke_ann_linr_model = tf.estimator.DNNLinearCombinedClassifier(n_classes=3,dnn_optimizer='Adam',dnn_hidden_units=[1024,512,256,32,3],dnn_dropout=0.35,dnn_feature_columns=features,dnn_activation_fn='relu',linear_feature_columns=features)"
   ]
  },
  {
   "cell_type": "code",
   "execution_count": 34,
   "id": "1273f9c3",
   "metadata": {},
   "outputs": [
    {
     "name": "stdout",
     "output_type": "stream",
     "text": [
      "INFO:tensorflow:Calling model_fn.\n"
     ]
    },
    {
     "name": "stderr",
     "output_type": "stream",
     "text": [
      "C:\\Users\\alekh\\anaconda3\\lib\\site-packages\\tensorflow\\python\\keras\\engine\\base_layer_v1.py:1700: UserWarning: `layer.add_variable` is deprecated and will be removed in a future version. Please use `layer.add_weight` method instead.\n",
      "  warnings.warn('`layer.add_variable` is deprecated and '\n"
     ]
    },
    {
     "name": "stdout",
     "output_type": "stream",
     "text": [
      "WARNING:tensorflow:From C:\\Users\\alekh\\anaconda3\\lib\\site-packages\\tensorflow\\python\\keras\\optimizer_v2\\ftrl.py:148: calling Constant.__init__ (from tensorflow.python.ops.init_ops) with dtype is deprecated and will be removed in a future version.\n",
      "Instructions for updating:\n",
      "Call initializer instance with the dtype argument instead of passing it to the constructor\n",
      "INFO:tensorflow:Done calling model_fn.\n",
      "INFO:tensorflow:Create CheckpointSaverHook.\n",
      "INFO:tensorflow:Graph was finalized.\n",
      "INFO:tensorflow:Running local_init_op.\n",
      "INFO:tensorflow:Done running local_init_op.\n",
      "INFO:tensorflow:Calling checkpoint listeners before saving checkpoint 0...\n",
      "INFO:tensorflow:Saving checkpoints for 0 into C:\\Users\\alekh\\AppData\\Local\\Temp\\tmperii8y22\\model.ckpt.\n",
      "INFO:tensorflow:Calling checkpoint listeners after saving checkpoint 0...\n",
      "INFO:tensorflow:loss = 4.1216173, step = 0\n",
      "INFO:tensorflow:global_step/sec: 66.4381\n",
      "INFO:tensorflow:loss = 0.26113474, step = 100 (1.505 sec)\n",
      "INFO:tensorflow:global_step/sec: 76.3587\n",
      "INFO:tensorflow:loss = 0.20946643, step = 200 (1.311 sec)\n",
      "INFO:tensorflow:global_step/sec: 65.289\n",
      "INFO:tensorflow:loss = 0.20310056, step = 300 (1.530 sec)\n",
      "INFO:tensorflow:global_step/sec: 69.6645\n",
      "INFO:tensorflow:loss = 0.2599422, step = 400 (1.436 sec)\n",
      "INFO:tensorflow:global_step/sec: 73.8259\n",
      "INFO:tensorflow:loss = 0.20830502, step = 500 (1.355 sec)\n",
      "INFO:tensorflow:global_step/sec: 68.5466\n",
      "INFO:tensorflow:loss = 0.1275499, step = 600 (1.459 sec)\n",
      "INFO:tensorflow:global_step/sec: 74.0679\n",
      "INFO:tensorflow:loss = 0.17187399, step = 700 (1.348 sec)\n",
      "INFO:tensorflow:global_step/sec: 69.9662\n",
      "INFO:tensorflow:loss = 0.20161879, step = 800 (1.430 sec)\n",
      "INFO:tensorflow:global_step/sec: 73.4029\n",
      "INFO:tensorflow:loss = 0.12579398, step = 900 (1.362 sec)\n",
      "INFO:tensorflow:global_step/sec: 75.1998\n",
      "INFO:tensorflow:loss = 0.05388005, step = 1000 (1.329 sec)\n",
      "INFO:tensorflow:global_step/sec: 68.5724\n",
      "INFO:tensorflow:loss = 0.13457847, step = 1100 (1.460 sec)\n",
      "INFO:tensorflow:global_step/sec: 76.3753\n",
      "INFO:tensorflow:loss = 0.2343122, step = 1200 (1.310 sec)\n",
      "INFO:tensorflow:Calling checkpoint listeners before saving checkpoint 1300...\n",
      "INFO:tensorflow:Saving checkpoints for 1300 into C:\\Users\\alekh\\AppData\\Local\\Temp\\tmperii8y22\\model.ckpt.\n",
      "INFO:tensorflow:Calling checkpoint listeners after saving checkpoint 1300...\n",
      "INFO:tensorflow:Loss for final step: 0.084088154.\n"
     ]
    },
    {
     "data": {
      "text/plain": [
       "<tensorflow_estimator.python.estimator.canned.dnn_linear_combined.DNNLinearCombinedClassifierV2 at 0x1c909d7c430>"
      ]
     },
     "execution_count": 34,
     "metadata": {},
     "output_type": "execute_result"
    }
   ],
   "source": [
    "#Merging Artificial Neural Model and Linear Classifier model training using defined epochs and batches\n",
    "Stroke_ann_linr_model.train(input_fn=model_prmtrs(100,128,True),steps=1300)"
   ]
  },
  {
   "cell_type": "code",
   "execution_count": 35,
   "id": "2fcbbf60",
   "metadata": {},
   "outputs": [
    {
     "name": "stdout",
     "output_type": "stream",
     "text": [
      "INFO:tensorflow:Calling model_fn.\n"
     ]
    },
    {
     "name": "stderr",
     "output_type": "stream",
     "text": [
      "C:\\Users\\alekh\\anaconda3\\lib\\site-packages\\tensorflow\\python\\keras\\engine\\base_layer_v1.py:1700: UserWarning: `layer.add_variable` is deprecated and will be removed in a future version. Please use `layer.add_weight` method instead.\n",
      "  warnings.warn('`layer.add_variable` is deprecated and '\n"
     ]
    },
    {
     "name": "stdout",
     "output_type": "stream",
     "text": [
      "INFO:tensorflow:Done calling model_fn.\n",
      "INFO:tensorflow:Starting evaluation at 2023-03-03T18:33:34\n",
      "INFO:tensorflow:Graph was finalized.\n",
      "INFO:tensorflow:Restoring parameters from C:\\Users\\alekh\\AppData\\Local\\Temp\\tmperii8y22\\model.ckpt-1300\n",
      "INFO:tensorflow:Running local_init_op.\n",
      "INFO:tensorflow:Done running local_init_op.\n",
      "INFO:tensorflow:Evaluation [130/1300]\n",
      "INFO:tensorflow:Evaluation [260/1300]\n",
      "INFO:tensorflow:Evaluation [390/1300]\n",
      "INFO:tensorflow:Evaluation [520/1300]\n",
      "INFO:tensorflow:Evaluation [650/1300]\n",
      "INFO:tensorflow:Evaluation [780/1300]\n",
      "INFO:tensorflow:Evaluation [910/1300]\n",
      "INFO:tensorflow:Evaluation [1040/1300]\n",
      "INFO:tensorflow:Evaluation [1170/1300]\n",
      "INFO:tensorflow:Inference Time : 5.89233s\n",
      "INFO:tensorflow:Finished evaluation at 2023-03-03-18:33:40\n",
      "INFO:tensorflow:Saving dict for global step 1300: accuracy = 0.94781476, average_loss = 0.20430002, global_step = 1300, loss = 0.20428191\n",
      "INFO:tensorflow:Saving 'checkpoint_path' summary for global step 1300: C:\\Users\\alekh\\AppData\\Local\\Temp\\tmperii8y22\\model.ckpt-1300\n"
     ]
    },
    {
     "data": {
      "text/plain": [
       "{'accuracy': 0.94781476,\n",
       " 'average_loss': 0.20430002,\n",
       " 'loss': 0.20428191,\n",
       " 'global_step': 1300}"
      ]
     },
     "execution_count": 35,
     "metadata": {},
     "output_type": "execute_result"
    }
   ],
   "source": [
    "#Merging Artificial Neural Model and Linear Classifier model performance validation\n",
    "Stroke_ann_linr_model.evaluate(input_fn=model_performance(100,128,True),steps=1300)"
   ]
  },
  {
   "cell_type": "code",
   "execution_count": null,
   "id": "7c7dd2d7",
   "metadata": {},
   "outputs": [],
   "source": []
  }
 ],
 "metadata": {
  "kernelspec": {
   "display_name": "Python 3 (ipykernel)",
   "language": "python",
   "name": "python3"
  },
  "language_info": {
   "codemirror_mode": {
    "name": "ipython",
    "version": 3
   },
   "file_extension": ".py",
   "mimetype": "text/x-python",
   "name": "python",
   "nbconvert_exporter": "python",
   "pygments_lexer": "ipython3",
   "version": "3.9.7"
  }
 },
 "nbformat": 4,
 "nbformat_minor": 5
}
